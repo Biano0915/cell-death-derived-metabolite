{
 "cells": [
  {
   "cell_type": "code",
   "execution_count": null,
   "metadata": {},
   "outputs": [],
   "source": [
    "# Create the dictionary of different metabolites and their potential relative function\n",
    "pathway = {\n",
    "    \"iron\": ['HMDB0013220'],\n",
    "    'pentose phosphate pathway': ['HMDB0001321', 'HMDB0001068'],\n",
    "    'N-Acetyl-Sugar': ['HMDB0000212', 'HMDB0000215', 'HMDB0000803', 'HMDB0000853', 'HMDB0001129'],\n",
    "    'immune moldulators': ['HMDB0000286', '']\n",
    "}"
   ]
  }
 ],
 "metadata": {
  "language_info": {
   "name": "python"
  }
 },
 "nbformat": 4,
 "nbformat_minor": 2
}
